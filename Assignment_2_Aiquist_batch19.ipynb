{
  "nbformat": 4,
  "nbformat_minor": 0,
  "metadata": {
    "colab": {
      "provenance": []
    },
    "kernelspec": {
      "name": "python3",
      "display_name": "Python 3"
    },
    "language_info": {
      "name": "python"
    }
  },
  "cells": [
    {
      "cell_type": "markdown",
      "source": [
        "1. Write a program that swaps the values of two variables."
      ],
      "metadata": {
        "id": "wZp7liaHZGVW"
      }
    },
    {
      "cell_type": "code",
      "source": [
        "num1=int(input(\"Number 1: \"))\n",
        "num2=int(input(\"Number 2: \"))\n",
        "temp=num1\n",
        "num1=num2\n",
        "num1=temp\n",
        "print(num1,\"\\n\",num2)"
      ],
      "metadata": {
        "colab": {
          "base_uri": "https://localhost:8080/"
        },
        "id": "G7Jm0ZM-ZI_9",
        "outputId": "2c861d34-1ba7-4106-f028-4ee38f806ccc"
      },
      "execution_count": null,
      "outputs": [
        {
          "output_type": "stream",
          "name": "stdout",
          "text": [
            "Number 1: 1\n",
            "Number 2: 2\n",
            "1 \n",
            " 2\n"
          ]
        }
      ]
    },
    {
      "cell_type": "markdown",
      "source": [
        "2. Write a program that calculates the area of a rectangle given its length and width."
      ],
      "metadata": {
        "id": "E7kFOFEoZ7c3"
      }
    },
    {
      "cell_type": "code",
      "source": [
        "length=float(input(\"Length : \"))\n",
        "width=float(input(\"Width : \"))\n",
        "area=length*width\n",
        "print(\"area is : \",area)"
      ],
      "metadata": {
        "colab": {
          "base_uri": "https://localhost:8080/"
        },
        "id": "o1Rig9FCZ6HX",
        "outputId": "aa9b77ae-bfc1-4917-95e8-36107a3d6549"
      },
      "execution_count": null,
      "outputs": [
        {
          "output_type": "stream",
          "name": "stdout",
          "text": [
            "Length : 2.5\n",
            "Width : 6\n",
            "area is :  15.0\n"
          ]
        }
      ]
    },
    {
      "cell_type": "markdown",
      "source": [
        "3. Write a program that converts temperature from Fahrenheit to Celsius."
      ],
      "metadata": {
        "id": "drBOnACBbqL2"
      }
    },
    {
      "cell_type": "code",
      "source": [
        "f_temp=float(input(\"Temperature in Fahrenheit: \"))\n",
        "c_temp=(f_temp-32)*5/9\n",
        "print(\"Temperature in Celsius: \", c_temp)"
      ],
      "metadata": {
        "colab": {
          "base_uri": "https://localhost:8080/"
        },
        "id": "JD7DTyiJbtdl",
        "outputId": "34258a70-4012-4919-ea86-bd0c8b79a2ad"
      },
      "execution_count": null,
      "outputs": [
        {
          "output_type": "stream",
          "name": "stdout",
          "text": [
            "Temperature in Fahrenheit: 100\n",
            "Temperature in Celsius:  37.77777777777778\n"
          ]
        }
      ]
    },
    {
      "cell_type": "markdown",
      "source": [
        "4. Write a program that calculates the volume of a sphere given its radius."
      ],
      "metadata": {
        "id": "MnpYJh4xeZOu"
      }
    },
    {
      "cell_type": "code",
      "source": [
        "import math\n",
        "radious=float(input(\"Give the radious of the sphare: \"))\n",
        "volume=4*math.pi*pow(radious,3)/3\n",
        "print(\"The volume is: \",volume)\n"
      ],
      "metadata": {
        "colab": {
          "base_uri": "https://localhost:8080/"
        },
        "id": "Y163OC_gebgW",
        "outputId": "27355923-5983-44d6-a0f4-b71138cbb9e4"
      },
      "execution_count": null,
      "outputs": [
        {
          "output_type": "stream",
          "name": "stdout",
          "text": [
            "Give the radious of the sphare: 2\n",
            "The volume is:  33.510321638291124\n"
          ]
        }
      ]
    },
    {
      "cell_type": "markdown",
      "source": [
        "5. Write a program that finds the average of three numbers."
      ],
      "metadata": {
        "id": "mBOMyyO_fYJn"
      }
    },
    {
      "cell_type": "code",
      "source": [
        "import statistics as stat\n",
        "a=float(input(\"give 1st number: \"))\n",
        "b=float(input(\"give 2nd number: \"))\n",
        "c=float(input(\"give 3rd number: \"))\n",
        "nums=[a,b,c]\n",
        "avg=stat.mean(nums)\n",
        "print(\"average is: \",avg)"
      ],
      "metadata": {
        "colab": {
          "base_uri": "https://localhost:8080/"
        },
        "id": "02jA5Nzzfc5X",
        "outputId": "13b9dbb8-c7f9-409f-88f7-3610c3cfce65"
      },
      "execution_count": null,
      "outputs": [
        {
          "output_type": "stream",
          "name": "stdout",
          "text": [
            "give 1st number: 1\n",
            "give 2nd number: 2\n",
            "give 3rd number: 3\n",
            "average is:  2.0\n"
          ]
        }
      ]
    },
    {
      "cell_type": "markdown",
      "source": [
        "6. Write a program that determines if a number is even or odd."
      ],
      "metadata": {
        "id": "yETSIhBAiagx"
      }
    },
    {
      "cell_type": "code",
      "source": [
        "num=int(input())\n",
        "if(num%2==0):\n",
        "  print(num,\" is even\")\n",
        "else:\n",
        "  print(num,\" is odd\")"
      ],
      "metadata": {
        "colab": {
          "base_uri": "https://localhost:8080/"
        },
        "id": "urkUYN5Nib3_",
        "outputId": "9a8f2f58-3560-4c7f-90e7-b7dec35d5a2d"
      },
      "execution_count": null,
      "outputs": [
        {
          "output_type": "stream",
          "name": "stdout",
          "text": [
            "2\n",
            "2  is even\n"
          ]
        }
      ]
    },
    {
      "cell_type": "markdown",
      "source": [
        "7. Write a program that finds the maximum of three numbers."
      ],
      "metadata": {
        "id": "HAHbioAFBbtW"
      }
    },
    {
      "cell_type": "code",
      "source": [
        "ls=[]\n",
        "for i in range(3):\n",
        "  x=int(input(str(i+1)+\"th number: \"))\n",
        "  ls.append(x)\n",
        "print(max(ls))"
      ],
      "metadata": {
        "colab": {
          "base_uri": "https://localhost:8080/"
        },
        "id": "f1hMT_4NBfat",
        "outputId": "993fa731-1cd4-42d3-9e37-fde52727937c"
      },
      "execution_count": null,
      "outputs": [
        {
          "output_type": "stream",
          "name": "stdout",
          "text": [
            "1th number: 6\n",
            "2th number: 2\n",
            "3th number: 4\n",
            "6\n"
          ]
        }
      ]
    },
    {
      "cell_type": "markdown",
      "source": [
        "8. Write a program that determines if a year is a leap year or not."
      ],
      "metadata": {
        "id": "cGKV51fPFAzh"
      }
    },
    {
      "cell_type": "code",
      "source": [
        "year=int(input())\n",
        "\n",
        "if year%400==0:\n",
        "  print('The year is a leap year')\n",
        "elif year%100==0:\n",
        "  print(\"the year is not a leap year\")\n",
        "elif(year%4==0):\n",
        "  print(\"The year is a leap year\")\n",
        "else:\n",
        "  print(\"The year is not a leap year\")"
      ],
      "metadata": {
        "id": "Ml5K2W0LFDd3",
        "colab": {
          "base_uri": "https://localhost:8080/"
        },
        "outputId": "e5fdbe91-3353-47db-a9ed-2405a2864d36"
      },
      "execution_count": 25,
      "outputs": [
        {
          "output_type": "stream",
          "name": "stdout",
          "text": [
            "2100\n",
            "the year is not a leap year\n"
          ]
        }
      ]
    },
    {
      "cell_type": "markdown",
      "source": [
        "9. Write a program that determines if a number is positive, negative, or zero."
      ],
      "metadata": {
        "id": "DJAQbaEZFCMG"
      }
    },
    {
      "cell_type": "code",
      "source": [
        "num=float(input(\"Give the number:\"))\n",
        "if(num==0):\n",
        "  print(\"Number is zero\")\n",
        "elif(num>0):\n",
        "  print(\"Number is Positive\")\n",
        "else:\n",
        "  print(\"Number is Negative\")"
      ],
      "metadata": {
        "colab": {
          "base_uri": "https://localhost:8080/"
        },
        "id": "ilpYO_p6FH-O",
        "outputId": "bc2812c8-7c6a-45ee-f71c-06867a62a82a"
      },
      "execution_count": null,
      "outputs": [
        {
          "output_type": "stream",
          "name": "stdout",
          "text": [
            "Give the number:0\n",
            "Number is zero\n"
          ]
        }
      ]
    },
    {
      "cell_type": "markdown",
      "source": [
        "10. Write a program that calculates the grade based on a given percentage."
      ],
      "metadata": {
        "id": "hQvQ1kNUFlsf"
      }
    },
    {
      "cell_type": "code",
      "source": [
        "perc=int(input())\n",
        "if(perc>=80):\n",
        "  print(\"A+\")\n",
        "elif(perc>=70):\n",
        "  print(\"A\")\n",
        "elif(perc>=60):\n",
        "  print(\"A-\")\n",
        "elif(perc>=50):\n",
        "  print(\"B\")\n",
        "elif(perc>=40):\n",
        "  print(\"C\")\n",
        "elif(perc>=33):\n",
        "  print(\"D\")\n",
        "else:\n",
        "  print(\"F\")"
      ],
      "metadata": {
        "colab": {
          "base_uri": "https://localhost:8080/"
        },
        "id": "v-l1_RR5FrMe",
        "outputId": "f264ca05-0995-4d75-f2a1-3f5d7d8d2f96"
      },
      "execution_count": null,
      "outputs": [
        {
          "output_type": "stream",
          "name": "stdout",
          "text": [
            "40\n",
            "C\n"
          ]
        }
      ]
    },
    {
      "cell_type": "markdown",
      "source": [
        "11. Write a program that prints the first `n` natural numbers."
      ],
      "metadata": {
        "id": "jJCl9xc0GtIv"
      }
    },
    {
      "cell_type": "code",
      "source": [
        "n=int(input(\"Give the N: \"))\n",
        "for i in range(n+1):\n",
        "  print(i)"
      ],
      "metadata": {
        "colab": {
          "base_uri": "https://localhost:8080/"
        },
        "id": "GTuAijfMGt23",
        "outputId": "1623b8e1-83f8-4864-bd53-43649a7ef55a"
      },
      "execution_count": null,
      "outputs": [
        {
          "output_type": "stream",
          "name": "stdout",
          "text": [
            "Give the N: 10\n",
            "0\n",
            "1\n",
            "2\n",
            "3\n",
            "4\n",
            "5\n",
            "6\n",
            "7\n",
            "8\n",
            "9\n",
            "10\n"
          ]
        }
      ]
    },
    {
      "cell_type": "markdown",
      "source": [
        "12. Write a program that calculates the factorial of a number."
      ],
      "metadata": {
        "id": "20Gv0eqwG9z4"
      }
    },
    {
      "cell_type": "code",
      "source": [
        "n=int(input())\n",
        "fact=1\n",
        "for i in range(1,n+1):\n",
        "  fact=fact*i\n",
        "print(fact)"
      ],
      "metadata": {
        "colab": {
          "base_uri": "https://localhost:8080/"
        },
        "id": "A0dsidgVHBG5",
        "outputId": "c43c26d6-5106-4d72-bc83-87a84d1db87c"
      },
      "execution_count": null,
      "outputs": [
        {
          "output_type": "stream",
          "name": "stdout",
          "text": [
            "6\n",
            "720\n"
          ]
        }
      ]
    },
    {
      "cell_type": "markdown",
      "source": [
        "13. Write a program that generates a Fibonacci sequence of length `n`."
      ],
      "metadata": {
        "id": "URRpO7YxHv7B"
      }
    },
    {
      "cell_type": "code",
      "source": [
        "n=int(input(\"Give the N : \"))\n",
        "pre=0\n",
        "curr=1\n",
        "print(0)\n",
        "for i in range(n-1):\n",
        "  print(curr)\n",
        "  temp=curr\n",
        "  curr=curr+pre\n",
        "  pre=temp\n",
        "\n",
        "\n"
      ],
      "metadata": {
        "colab": {
          "base_uri": "https://localhost:8080/"
        },
        "id": "2GOUiZJ5H0FJ",
        "outputId": "b0d3bfe1-757a-4957-a1c9-e857059c1c4e"
      },
      "execution_count": null,
      "outputs": [
        {
          "output_type": "stream",
          "name": "stdout",
          "text": [
            "Give the N : 10\n",
            "0\n",
            "1\n",
            "1\n",
            "2\n",
            "3\n",
            "5\n",
            "8\n",
            "13\n",
            "21\n",
            "34\n"
          ]
        }
      ]
    },
    {
      "cell_type": "markdown",
      "source": [
        "14. Write a program that checks if a given number is prime or not."
      ],
      "metadata": {
        "id": "S15C2sYSJfmI"
      }
    },
    {
      "cell_type": "code",
      "source": [
        "num=int(input())\n",
        "i=2\n",
        "count=0\n",
        "while i*i<=num:\n",
        "  if num%i==0:\n",
        "    count+=1\n",
        "  i=i+1\n",
        "if(num==1):\n",
        "  print(num, \" is not a prime\")\n",
        "elif count>=1:\n",
        "  print(num,\" is not a prime\")\n",
        "else:\n",
        "  print(num, \" is a prime \")"
      ],
      "metadata": {
        "colab": {
          "base_uri": "https://localhost:8080/"
        },
        "id": "1qTi_1AXJihr",
        "outputId": "24c84c90-57bc-49fb-8dab-7e96593697aa"
      },
      "execution_count": null,
      "outputs": [
        {
          "output_type": "stream",
          "name": "stdout",
          "text": [
            "10\n",
            "10  is not a prime\n"
          ]
        }
      ]
    },
    {
      "cell_type": "markdown",
      "source": [
        "15. Write a program that prints the multiplication table of a given number."
      ],
      "metadata": {
        "id": "de225ff_K5sX"
      }
    },
    {
      "cell_type": "code",
      "source": [
        "num=int(input())\n",
        "\n",
        "for i in range(1,11):\n",
        "  print(num,\"x\",i,\"=\",i)"
      ],
      "metadata": {
        "id": "G2FPGeZ2LROY"
      },
      "execution_count": null,
      "outputs": []
    },
    {
      "cell_type": "markdown",
      "source": [
        "16. Write a program that finds the sum of all even numbers between 1 and `n`."
      ],
      "metadata": {
        "id": "XKYDskd0O_n8"
      }
    },
    {
      "cell_type": "code",
      "source": [
        "n=int(input())\n",
        "sum=0\n",
        "for i in range(1,n+1):\n",
        "  if(i%2==0):\n",
        "    sum=sum+i\n",
        "\n",
        "print(sum)"
      ],
      "metadata": {
        "colab": {
          "base_uri": "https://localhost:8080/"
        },
        "id": "PmDt_HJkPC0c",
        "outputId": "132c9f11-c7b9-4113-c1b7-7fbd9c73dcb0"
      },
      "execution_count": 1,
      "outputs": [
        {
          "output_type": "stream",
          "name": "stdout",
          "text": [
            "10\n",
            "30\n"
          ]
        }
      ]
    },
    {
      "cell_type": "markdown",
      "source": [
        "17. Write a program that reverses a given number."
      ],
      "metadata": {
        "id": "paJ4X-V0Pf5M"
      }
    },
    {
      "cell_type": "code",
      "source": [
        "n=int(input())\n",
        "\n",
        "s=\"\"\n",
        "\n",
        "while(n):\n",
        "  s=s+str(n%10)\n",
        "  n=int(n/10)\n",
        "\n",
        "print(int(s))"
      ],
      "metadata": {
        "colab": {
          "base_uri": "https://localhost:8080/"
        },
        "id": "YxK8iN3yPluE",
        "outputId": "77c97800-2c37-4a90-f5a8-5e79ca1a6b1a"
      },
      "execution_count": 6,
      "outputs": [
        {
          "output_type": "stream",
          "name": "stdout",
          "text": [
            "1234\n",
            "4321\n"
          ]
        }
      ]
    },
    {
      "cell_type": "markdown",
      "source": [
        "18. Write a program that checks if a given string is a palindrome."
      ],
      "metadata": {
        "id": "f-wcbJVaQYcN"
      }
    },
    {
      "cell_type": "code",
      "source": [
        "strin=input()\n",
        "if(strin==strin[::-1]):\n",
        "  print(\"its a palindrome\")\n",
        "else:\n",
        "  print(\"not a palindrome\")"
      ],
      "metadata": {
        "colab": {
          "base_uri": "https://localhost:8080/"
        },
        "id": "4ZCdz0WPQb6f",
        "outputId": "d9b7f047-11dd-4939-c0e3-b809ab060424"
      },
      "execution_count": 9,
      "outputs": [
        {
          "output_type": "stream",
          "name": "stdout",
          "text": [
            "aba\n",
            "its a palindrome\n"
          ]
        }
      ]
    },
    {
      "cell_type": "markdown",
      "source": [
        "19. Write a program that generates a random number and allows the user to guess it."
      ],
      "metadata": {
        "id": "2F5fmoZXRJhV"
      }
    },
    {
      "cell_type": "code",
      "source": [
        "import random\n",
        "num=int(random.random()*100)\n",
        "guess=int(input(\"Give a guess: \"))\n",
        "if(num==guess):\n",
        "  print(\"your guess is right\")\n",
        "else:\n",
        "  print(\"your guess is wrong!! original number is: \",num)"
      ],
      "metadata": {
        "colab": {
          "base_uri": "https://localhost:8080/"
        },
        "id": "Wgfu7SDLRL19",
        "outputId": "b2fa45df-3eb8-4686-ed27-64f70831f626"
      },
      "execution_count": 16,
      "outputs": [
        {
          "output_type": "stream",
          "name": "stdout",
          "text": [
            "Give a guess: 0\n",
            "your guess is wrong!! original number is:  80\n"
          ]
        }
      ]
    },
    {
      "cell_type": "markdown",
      "source": [
        "20. Write a program that finds the greatest common divisor (GCD) of two numbers."
      ],
      "metadata": {
        "id": "yOd_mvQoSVFI"
      }
    },
    {
      "cell_type": "code",
      "source": [
        "num1=int(input())\n",
        "num2=int(input())\n",
        "\n",
        "if(num1>num2):\n",
        "  gcd=num2\n",
        "else:\n",
        "  gcd=num1\n",
        "\n",
        "while(1):\n",
        "  if(num1%gcd==0 and num2%gcd==0):\n",
        "    break\n",
        "  else:\n",
        "    gcd=gcd-1\n",
        "\n",
        "print(gcd)\n",
        "\n",
        ""
      ],
      "metadata": {
        "colab": {
          "base_uri": "https://localhost:8080/"
        },
        "id": "afHBnn5iSYAd",
        "outputId": "d5ff70c7-935f-46cb-c546-3a20a18a6e05"
      },
      "execution_count": 20,
      "outputs": [
        {
          "output_type": "stream",
          "name": "stdout",
          "text": [
            "20\n",
            "8\n",
            "4\n"
          ]
        }
      ]
    }
  ]
}